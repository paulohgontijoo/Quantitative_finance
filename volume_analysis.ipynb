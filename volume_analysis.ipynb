{
 "cells": [
  {
   "cell_type": "code",
   "execution_count": 1,
   "metadata": {},
   "outputs": [
    {
     "ename": "ModuleNotFoundError",
     "evalue": "No module named 'MetaTrader'",
     "output_type": "error",
     "traceback": [
      "\u001b[0;31m---------------------------------------------------------------------------\u001b[0m",
      "\u001b[0;31mModuleNotFoundError\u001b[0m                       Traceback (most recent call last)",
      "\u001b[0;32m<ipython-input-1-928b71d8c8f3>\u001b[0m in \u001b[0;36m<module>\u001b[0;34m\u001b[0m\n\u001b[1;32m      1\u001b[0m \u001b[0;32mimport\u001b[0m \u001b[0mpandas\u001b[0m \u001b[0;32mas\u001b[0m \u001b[0mpd\u001b[0m\u001b[0;34m\u001b[0m\u001b[0;34m\u001b[0m\u001b[0m\n\u001b[1;32m      2\u001b[0m \u001b[0;32mimport\u001b[0m \u001b[0mdatetime\u001b[0m \u001b[0;32mas\u001b[0m \u001b[0mdt\u001b[0m\u001b[0;34m\u001b[0m\u001b[0;34m\u001b[0m\u001b[0m\n\u001b[0;32m----> 3\u001b[0;31m \u001b[0;32mimport\u001b[0m \u001b[0mMetaTrader\u001b[0m \u001b[0;32mas\u001b[0m \u001b[0mmt5\u001b[0m\u001b[0;34m\u001b[0m\u001b[0;34m\u001b[0m\u001b[0m\n\u001b[0m\u001b[1;32m      4\u001b[0m \u001b[0;32mimport\u001b[0m \u001b[0mpytz\u001b[0m\u001b[0;34m\u001b[0m\u001b[0;34m\u001b[0m\u001b[0m\n\u001b[1;32m      5\u001b[0m \u001b[0;32mimport\u001b[0m \u001b[0mnumpy\u001b[0m \u001b[0;32mas\u001b[0m \u001b[0mnp\u001b[0m\u001b[0;34m\u001b[0m\u001b[0;34m\u001b[0m\u001b[0m\n",
      "\u001b[0;31mModuleNotFoundError\u001b[0m: No module named 'MetaTrader'"
     ]
    }
   ],
   "source": [
    "import pandas as pd\n",
    "import datetime as dt\n",
    "import MetaTrader5 as mt5\n",
    "import pytz\n",
    "import numpy as np\n",
    "from dateutil.relativedelta import relativedelta\n",
    "\n",
    "%matplotlib inline\n",
    "import string\n",
    "import warnings\n",
    "import matplotlib.dates as mdates\n",
    "import datetime\n",
    "import matplotlib.mlab as mlab\n",
    "import scipy.signal as signal\n",
    "import matplotlib.pyplot as plt\n",
    "import numpy as np\n",
    "import datetime as dt\n",
    "import matplotlib.ticker as mticker\n",
    "import statsmodels.api as sm\n",
    "import math\n",
    "import seaborn as sns\n",
    "import matplotlib.dates\n",
    "\n",
    "from datetime import date\n",
    "from sklearn import preprocessing\n",
    "from sklearn.linear_model import LinearRegression\n",
    "from sklearn.neighbors import KNeighborsRegressor\n",
    "from sklearn.linear_model import Ridge\n",
    "from sklearn.preprocessing import PolynomialFeatures\n",
    "from matplotlib.ticker import StrMethodFormatter\n",
    "from sklearn.pipeline import make_pipeline\n",
    "from sklearn.cluster import KMeans\n",
    "from scipy.stats import skew\n",
    "from scipy.stats import kurtosis\n",
    "from scipy.stats import norm\n",
    "from scipy import stats\n",
    "from matplotlib import style\n",
    "\n",
    "# Opções de Gráfico\n",
    "\n",
    "plt.style.use(['seaborn-white', 'seaborn-paper'])\n",
    "plt.rc('font', family='Times New Roman', size=15)\n",
    "plt.rcParams['savefig.dpi'] = 150\n",
    "plt.rcParams['figure.autolayout'] = False\n",
    "plt.rcParams['figure.figsize'] = 8, 5\n",
    "plt.rcParams['axes.labelsize'] = 10\n",
    "plt.rcParams['axes.titlesize'] = 15\n",
    "plt.rcParams['font.size'] = 12\n",
    "plt.rcParams['lines.linewidth'] = 1.0\n",
    "plt.rcParams['lines.markersize'] = 8\n",
    "plt.rcParams['legend.fontsize'] = 12\n",
    "plt.rcParams['ytick.labelsize'] = 11\n",
    "plt.rcParams['xtick.labelsize'] = 11\n",
    "plt.rcParams['font.family'] = 'Times New Roman'\n",
    "plt.rcParams['font.serif'] = 'cm'\n",
    "plt.rcParams['axes.grid'] = True\n",
    "kw_save = dict(bbox_iches='tight', transparent=True)\n",
    "\n",
    "timezone = pytz.timezone(\"Etc/UTC\")\n",
    "\n",
    "mt5.initialize()\n",
    "\n",
    "tf_dict = {\n",
    "    1: mt5.TIMEFRAME_M1,\n",
    "    5: mt5.TIMEFRAME_M5,\n",
    "    10: mt5.TIMEFRAME_M10,\n",
    "    15: mt5.TIMEFRAME_M15,\n",
    "    20: mt5.TIMEFRAME_M20,\n",
    "    30: mt5.TIMEFRAME_M30,\n",
    "    'H1': mt5.TIMEFRAME_H1,\n",
    "    'H2': mt5.TIMEFRAME_H2,\n",
    "    'H4': mt5.TIMEFRAME_H4,\n",
    "    'D': mt5.TIMEFRAME_D1,\n",
    "    'S': mt5.TIMEFRAME_W1, \n",
    "    'M': mt5.TIMEFRAME_MN1\n",
    "}\n",
    "\n",
    "\n",
    "def get_candles(ticker, tf, utc_end, n_months, months_step=3):\n",
    "    dfs = []\n",
    "    utc_date = utc_end\n",
    "    months = 0\n",
    "    \n",
    "    months_step = months_step if tf != 1 else 1\n",
    "    \n",
    "    while True:\n",
    "        step = months_step if n_months - months >= months_step else n_months - months\n",
    "        \n",
    "        df = pd.DataFrame(mt5.copy_rates_range(ticker, tf_dict[tf], utc_date-relativedelta(months=+step), utc_date))\n",
    "        dfs.append(df)\n",
    "        utc_date = utc_date-relativedelta(months=+step)\n",
    "        \n",
    "        months += step\n",
    "        if months == n_months: break\n",
    "        \n",
    "    candles = pd.concat(dfs[::-1])\n",
    "    candles['time']=pd.to_datetime(candles['time'], unit='s')\n",
    "    del candles['spread']\n",
    "    candles.columns = ['datetime', 'Open', 'High', 'Low', 'Close', 'Tick_Volume', 'Volume']\n",
    "    candles = candles.set_index('datetime')\n",
    "    candles = candles.rename_axis(ticker, axis=1)\n",
    "    candles = candles.drop_duplicates()\n",
    "    return candles\n",
    "\n",
    "utc_to = dt.datetime(2021,1,4, tzinfo=timezone)"
   ]
  },
  {
   "cell_type": "code",
   "execution_count": 2,
   "metadata": {},
   "outputs": [],
   "source": [
    "price = get_candles('CSNA3', 'D', utc_to, 36)"
   ]
  },
  {
   "cell_type": "code",
   "execution_count": 3,
   "metadata": {},
   "outputs": [
    {
     "data": {
      "text/plain": [
       "<AxesSubplot:>"
      ]
     },
     "execution_count": 3,
     "metadata": {},
     "output_type": "execute_result"
    },
    {
     "data": {
      "image/png": "[encoded data removed]",
      "text/plain": [
       "<Figure size 576x360 with 1 Axes>"
      ]
     },
     "metadata": {},
     "output_type": "display_data"
    }
   ],
   "source": [
    "price['Volume'].hist(bins=30)"
   ]
  },
  {
   "cell_type": "code",
   "execution_count": 4,
   "metadata": {},
   "outputs": [],
   "source": [
    "good_volumes = price[price['Volume'] > 30000000]"
   ]
  },
  {
   "cell_type": "code",
   "execution_count": 5,
   "metadata": {},
   "outputs": [
    {
     "data": {
      "text/html": [
       "<div>\n",
       "<style scoped>\n",
       "    .dataframe tbody tr th:only-of-type {\n",
       "        vertical-align: middle;\n",
       "    }\n",
       "\n",
       "    .dataframe tbody tr th {\n",
       "        vertical-align: top;\n",
       "    }\n",
       "\n",
       "    .dataframe thead th {\n",
       "        text-align: right;\n",
       "    }\n",
       "</style>\n",
       "<table border=\"1\" class=\"dataframe\">\n",
       "  <thead>\n",
       "    <tr style=\"text-align: right;\">\n",
       "      <th>CSNA3</th>\n",
       "      <th>Open</th>\n",
       "      <th>High</th>\n",
       "      <th>Low</th>\n",
       "      <th>Close</th>\n",
       "      <th>Tick_Volume</th>\n",
       "      <th>Volume</th>\n",
       "    </tr>\n",
       "    <tr>\n",
       "      <th>datetime</th>\n",
       "      <th></th>\n",
       "      <th></th>\n",
       "      <th></th>\n",
       "      <th></th>\n",
       "      <th></th>\n",
       "      <th></th>\n",
       "    </tr>\n",
       "  </thead>\n",
       "  <tbody>\n",
       "    <tr>\n",
       "      <th>2018-04-20</th>\n",
       "      <td>8.07</td>\n",
       "      <td>8.18</td>\n",
       "      <td>7.78</td>\n",
       "      <td>7.90</td>\n",
       "      <td>10433</td>\n",
       "      <td>32155700</td>\n",
       "    </tr>\n",
       "    <tr>\n",
       "      <th>2019-01-30</th>\n",
       "      <td>9.60</td>\n",
       "      <td>10.36</td>\n",
       "      <td>9.58</td>\n",
       "      <td>9.68</td>\n",
       "      <td>23233</td>\n",
       "      <td>58173500</td>\n",
       "    </tr>\n",
       "    <tr>\n",
       "      <th>2019-02-21</th>\n",
       "      <td>10.13</td>\n",
       "      <td>10.82</td>\n",
       "      <td>9.99</td>\n",
       "      <td>10.75</td>\n",
       "      <td>33841</td>\n",
       "      <td>33899700</td>\n",
       "    </tr>\n",
       "    <tr>\n",
       "      <th>2019-02-22</th>\n",
       "      <td>10.82</td>\n",
       "      <td>11.78</td>\n",
       "      <td>10.82</td>\n",
       "      <td>11.56</td>\n",
       "      <td>36940</td>\n",
       "      <td>30544700</td>\n",
       "    </tr>\n",
       "    <tr>\n",
       "      <th>2019-03-19</th>\n",
       "      <td>15.34</td>\n",
       "      <td>16.24</td>\n",
       "      <td>14.49</td>\n",
       "      <td>14.62</td>\n",
       "      <td>46700</td>\n",
       "      <td>34208000</td>\n",
       "    </tr>\n",
       "    <tr>\n",
       "      <th>2019-03-20</th>\n",
       "      <td>14.35</td>\n",
       "      <td>15.38</td>\n",
       "      <td>14.13</td>\n",
       "      <td>14.82</td>\n",
       "      <td>42254</td>\n",
       "      <td>31103400</td>\n",
       "    </tr>\n",
       "    <tr>\n",
       "      <th>2019-10-24</th>\n",
       "      <td>12.79</td>\n",
       "      <td>13.08</td>\n",
       "      <td>12.36</td>\n",
       "      <td>12.50</td>\n",
       "      <td>45585</td>\n",
       "      <td>31266200</td>\n",
       "    </tr>\n",
       "    <tr>\n",
       "      <th>2020-03-10</th>\n",
       "      <td>9.19</td>\n",
       "      <td>9.36</td>\n",
       "      <td>8.20</td>\n",
       "      <td>9.36</td>\n",
       "      <td>34940</td>\n",
       "      <td>32007900</td>\n",
       "    </tr>\n",
       "    <tr>\n",
       "      <th>2020-04-29</th>\n",
       "      <td>8.05</td>\n",
       "      <td>9.26</td>\n",
       "      <td>8.00</td>\n",
       "      <td>9.02</td>\n",
       "      <td>43628</td>\n",
       "      <td>34308900</td>\n",
       "    </tr>\n",
       "    <tr>\n",
       "      <th>2020-05-29</th>\n",
       "      <td>9.80</td>\n",
       "      <td>10.69</td>\n",
       "      <td>9.74</td>\n",
       "      <td>10.32</td>\n",
       "      <td>54519</td>\n",
       "      <td>40306800</td>\n",
       "    </tr>\n",
       "    <tr>\n",
       "      <th>2020-06-08</th>\n",
       "      <td>11.04</td>\n",
       "      <td>12.46</td>\n",
       "      <td>11.03</td>\n",
       "      <td>12.45</td>\n",
       "      <td>37099</td>\n",
       "      <td>30866800</td>\n",
       "    </tr>\n",
       "    <tr>\n",
       "      <th>2020-07-29</th>\n",
       "      <td>12.78</td>\n",
       "      <td>13.57</td>\n",
       "      <td>12.77</td>\n",
       "      <td>13.00</td>\n",
       "      <td>36791</td>\n",
       "      <td>31038600</td>\n",
       "    </tr>\n",
       "    <tr>\n",
       "      <th>2020-09-30</th>\n",
       "      <td>15.83</td>\n",
       "      <td>16.97</td>\n",
       "      <td>15.83</td>\n",
       "      <td>16.50</td>\n",
       "      <td>46423</td>\n",
       "      <td>37826000</td>\n",
       "    </tr>\n",
       "  </tbody>\n",
       "</table>\n",
       "</div>"
      ],
      "text/plain": [
       "CSNA3        Open   High    Low  Close  Tick_Volume    Volume\n",
       "datetime                                                     \n",
       "2018-04-20   8.07   8.18   7.78   7.90        10433  32155700\n",
       "2019-01-30   9.60  10.36   9.58   9.68        23233  58173500\n",
       "2019-02-21  10.13  10.82   9.99  10.75        33841  33899700\n",
       "2019-02-22  10.82  11.78  10.82  11.56        36940  30544700\n",
       "2019-03-19  15.34  16.24  14.49  14.62        46700  34208000\n",
       "2019-03-20  14.35  15.38  14.13  14.82        42254  31103400\n",
       "2019-10-24  12.79  13.08  12.36  12.50        45585  31266200\n",
       "2020-03-10   9.19   9.36   8.20   9.36        34940  32007900\n",
       "2020-04-29   8.05   9.26   8.00   9.02        43628  34308900\n",
       "2020-05-29   9.80  10.69   9.74  10.32        54519  40306800\n",
       "2020-06-08  11.04  12.46  11.03  12.45        37099  30866800\n",
       "2020-07-29  12.78  13.57  12.77  13.00        36791  31038600\n",
       "2020-09-30  15.83  16.97  15.83  16.50        46423  37826000"
      ]
     },
     "execution_count": 5,
     "metadata": {},
     "output_type": "execute_result"
    }
   ],
   "source": [
    "good_volumes"
   ]
  },
  {
   "cell_type": "code",
   "execution_count": 26,
   "metadata": {},
   "outputs": [
    {
     "data": {
      "text/plain": [
       "<matplotlib.lines.Line2D at 0x181a87e3730>"
      ]
     },
     "execution_count": 26,
     "metadata": {},
     "output_type": "execute_result"
    },
    {
     "data": {
      "image/png": "[encoded data removed]",
      "text/plain": [
       "<Figure size 1440x720 with 1 Axes>"
      ]
     },
     "metadata": {},
     "output_type": "display_data"
    }
   ],
   "source": [
    "import matplotlib.transforms as transforms\n",
    "fig, ax = plt.subplots(figsize=(20,10))\n",
    "ax.plot(price['Close'])\n",
    "ax.plot(good_volumes['Close'])\n",
    "ax.axhline(ponder_mean)\n",
    "ax.axhline((ponder_mean*0.382))\n",
    "ax.axhline((ponder_mean*0.5))\n",
    "ax.axhline((ponder_mean*0.618))\n",
    "ax.axhline((ponder_mean*1.382))\n",
    "ax.axhline((ponder_mean*1.5))\n",
    "ax.axhline((ponder_mean*1.618))\n",
    "ax.axhline((ponder_mean*2))\n",
    "ax.axhline((ponder_mean*2.382))\n",
    "ax.axhline((ponder_mean*2.5))\n",
    "ax.axhline((ponder_mean*2.618))"
   ]
  },
  {
   "cell_type": "code",
   "execution_count": 7,
   "metadata": {},
   "outputs": [
    {
     "data": {
      "text/plain": [
       "2.552565577148024"
      ]
     },
     "execution_count": 7,
     "metadata": {},
     "output_type": "execute_result"
    }
   ],
   "source": [
    "std = good_volumes['Close'].std()\n",
    "std"
   ]
  },
  {
   "cell_type": "code",
   "execution_count": 8,
   "metadata": {},
   "outputs": [
    {
     "data": {
      "text/plain": [
       "11.729230769230771"
      ]
     },
     "execution_count": 8,
     "metadata": {},
     "output_type": "execute_result"
    }
   ],
   "source": [
    "mean = good_volumes['Close'].mean()\n",
    "mean"
   ]
  },
  {
   "cell_type": "code",
   "execution_count": 9,
   "metadata": {},
   "outputs": [
    {
     "data": {
      "text/plain": [
       "14.723193840027163"
      ]
     },
     "execution_count": 9,
     "metadata": {},
     "output_type": "execute_result"
    }
   ],
   "source": [
    "ponder_mean = mean * (1 + (std/10))\n",
    "ponder_mean"
   ]
  },
  {
   "cell_type": "code",
   "execution_count": 10,
   "metadata": {},
   "outputs": [
    {
     "data": {
      "text/plain": [
       "datetime\n",
       "2018-04-20     7.90\n",
       "2019-01-30     9.68\n",
       "2019-02-21    10.75\n",
       "2019-02-22    11.56\n",
       "2019-03-19    14.62\n",
       "2019-03-20    14.82\n",
       "2019-10-24    12.50\n",
       "2020-03-10     9.36\n",
       "2020-04-29     9.02\n",
       "2020-05-29    10.32\n",
       "2020-06-08    12.45\n",
       "2020-07-29    13.00\n",
       "2020-09-30    16.50\n",
       "Name: Close, dtype: float64"
      ]
     },
     "execution_count": 10,
     "metadata": {},
     "output_type": "execute_result"
    }
   ],
   "source": [
    "good_volumes['Close']"
   ]
  },
  {
   "cell_type": "code",
   "execution_count": 11,
   "metadata": {},
   "outputs": [
    {
     "ename": "SyntaxError",
     "evalue": "unexpected EOF while parsing (<ipython-input-11-f21b02e34927>, line 5)",
     "output_type": "error",
     "traceback": [
      "\u001b[1;36m  File \u001b[1;32m\"<ipython-input-11-f21b02e34927>\"\u001b[1;36m, line \u001b[1;32m5\u001b[0m\n\u001b[1;33m    # lenght\u001b[0m\n\u001b[1;37m            ^\u001b[0m\n\u001b[1;31mSyntaxError\u001b[0m\u001b[1;31m:\u001b[0m unexpected EOF while parsing\n"
     ]
    }
   ],
   "source": [
    "lenght = np.arange(1,len(price['Close']),1)\n",
    "df_lenght = pd.DataFrame()\n",
    "for i in range(len(price['Close'])):\n",
    "    \n",
    "# lenght"
   ]
  },
  {
   "cell_type": "code",
   "execution_count": null,
   "metadata": {},
   "outputs": [],
   "source": [
    "fig, ax = plt.subplots(figsize=(20,10))\n",
    "ax.plot(price['Close'])\n",
    "ax.plot(good_volumes['Close'])\n",
    "ax.plo(ponder_mean, price['Close'])"
   ]
  },
  {
   "cell_type": "code",
   "execution_count": null,
   "metadata": {},
   "outputs": [],
   "source": []
  },
  {
   "cell_type": "code",
   "execution_count": null,
   "metadata": {},
   "outputs": [],
   "source": []
  },
  {
   "cell_type": "code",
   "execution_count": null,
   "metadata": {},
   "outputs": [],
   "source": []
  },
  {
   "cell_type": "code",
   "execution_count": null,
   "metadata": {},
   "outputs": [],
   "source": []
  },
  {
   "cell_type": "code",
   "execution_count": null,
   "metadata": {},
   "outputs": [],
   "source": []
  },
  {
   "cell_type": "code",
   "execution_count": null,
   "metadata": {},
   "outputs": [],
   "source": []
  },
  {
   "cell_type": "code",
   "execution_count": null,
   "metadata": {},
   "outputs": [],
   "source": []
  },
  {
   "cell_type": "code",
   "execution_count": null,
   "metadata": {},
   "outputs": [],
   "source": []
  },
  {
   "cell_type": "code",
   "execution_count": null,
   "metadata": {},
   "outputs": [],
   "source": []
  },
  {
   "cell_type": "code",
   "execution_count": null,
   "metadata": {},
   "outputs": [],
   "source": []
  },
  {
   "cell_type": "code",
   "execution_count": null,
   "metadata": {},
   "outputs": [],
   "source": []
  },
  {
   "cell_type": "code",
   "execution_count": 6,
   "metadata": {},
   "outputs": [
    {
     "data": {
      "text/plain": [
       "<MT5TimeFrame.Daily: 1440>"
      ]
     },
     "execution_count": 6,
     "metadata": {},
     "output_type": "execute_result"
    }
   ],
   "source": [
    "MT5TimeFrame.Daily"
   ]
  },
  {
   "cell_type": "code",
   "execution_count": 7,
   "metadata": {},
   "outputs": [
    {
     "ename": "DataNotFoundError",
     "evalue": "",
     "output_type": "error",
     "traceback": [
      "\u001b[0;31m---------------------------------------------------------------------------\u001b[0m",
      "\u001b[0;31mDataNotFoundError\u001b[0m                         Traceback (most recent call last)",
      "\u001b[0;32m<ipython-input-7-44b96312a2f4>\u001b[0m in \u001b[0;36m<module>\u001b[0;34m\u001b[0m\n\u001b[1;32m     10\u001b[0m                         \u001b[0mfrom_date\u001b[0m\u001b[0;34m=\u001b[0m\u001b[0mstart_date\u001b[0m\u001b[0;34m,\u001b[0m\u001b[0;34m\u001b[0m\u001b[0;34m\u001b[0m\u001b[0m\n\u001b[1;32m     11\u001b[0m                         \u001b[0mto_date\u001b[0m\u001b[0;34m=\u001b[0m\u001b[0mend_date\u001b[0m\u001b[0;34m,\u001b[0m\u001b[0;34m\u001b[0m\u001b[0;34m\u001b[0m\u001b[0m\n\u001b[0;32m---> 12\u001b[0;31m                         timeframe=MT5TimeFrame.Daily)\n\u001b[0m\u001b[1;32m     13\u001b[0m \u001b[0;34m\u001b[0m\u001b[0m\n\u001b[1;32m     14\u001b[0m \u001b[0mprint\u001b[0m\u001b[0;34m(\u001b[0m\u001b[0mdata\u001b[0m\u001b[0;34m)\u001b[0m\u001b[0;34m\u001b[0m\u001b[0;34m\u001b[0m\u001b[0m\n",
      "\u001b[0;32m~/Documents/Finance/quantenv/lib/python3.7/site-packages/pyomt5/stock/history.py\u001b[0m in \u001b[0;36mget_price_from\u001b[0;34m(self, symbol, from_date, to_date, timeframe)\u001b[0m\n\u001b[1;32m     95\u001b[0m \u001b[0;34m\u001b[0m\u001b[0m\n\u001b[1;32m     96\u001b[0m         \u001b[0;32mif\u001b[0m \u001b[0;32mnot\u001b[0m \u001b[0mprice_history\u001b[0m\u001b[0;34m:\u001b[0m\u001b[0;34m\u001b[0m\u001b[0;34m\u001b[0m\u001b[0m\n\u001b[0;32m---> 97\u001b[0;31m             \u001b[0;32mraise\u001b[0m \u001b[0mDataNotFoundError\u001b[0m\u001b[0;34m(\u001b[0m\u001b[0;34m)\u001b[0m\u001b[0;34m\u001b[0m\u001b[0;34m\u001b[0m\u001b[0m\n\u001b[0m\u001b[1;32m     98\u001b[0m \u001b[0;34m\u001b[0m\u001b[0m\n\u001b[1;32m     99\u001b[0m         \u001b[0;32mreturn\u001b[0m \u001b[0mself\u001b[0m\u001b[0;34m.\u001b[0m\u001b[0m_prepare_data\u001b[0m\u001b[0;34m(\u001b[0m\u001b[0msymbol\u001b[0m\u001b[0;34m,\u001b[0m \u001b[0mprice_history\u001b[0m\u001b[0;34m)\u001b[0m\u001b[0;34m\u001b[0m\u001b[0;34m\u001b[0m\u001b[0m\n",
      "\u001b[0;31mDataNotFoundError\u001b[0m: "
     ]
    }
   ],
   "source": [
    "from datetime import datetime\n",
    "from pyomt5.api import MT5TimeFrame\n",
    "from pyomt5.stock import StockPriceHistory\n",
    "\n",
    "c = StockPriceHistory()\n",
    "\n",
    "start_date = datetime(2019, 1, 1)\n",
    "end_date = datetime(2019, 5, 2)\n",
    "data = c.get_price_from(symbol='PETR4',\n",
    "                        from_date=start_date,\n",
    "                        to_date=end_date,\n",
    "                        timeframe=MT5TimeFrame.Daily)\n",
    "\n",
    "print(data)\n",
    "\n",
    "start_date = datetime(2019, 1, 2, 10, 0)\n",
    "end_date = datetime(2019, 1, 2, 12, 0, 0)\n",
    "data = c.get_price_from(symbol='PETR4',\n",
    "                        from_date=start_date,\n",
    "                        to_date=end_date,\n",
    "                        timeframe=MT5TimeFrame.Daily)\n",
    "\n",
    "print(data)"
   ]
  },
  {
   "cell_type": "code",
   "execution_count": null,
   "metadata": {},
   "outputs": [],
   "source": []
  }
 ],
 "metadata": {
  "kernelspec": {
   "display_name": "Python 3",
   "language": "python",
   "name": "python3"
  },
  "language_info": {
   "codemirror_mode": {
    "name": "ipython",
    "version": 3
   },
   "file_extension": ".py",
   "mimetype": "text/x-python",
   "name": "python",
   "nbconvert_exporter": "python",
   "pygments_lexer": "ipython3",
   "version": "3.7.9"
  }
 },
 "nbformat": 4,
 "nbformat_minor": 4
}
